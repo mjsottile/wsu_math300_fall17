{
 "cells": [
  {
   "cell_type": "markdown",
   "metadata": {},
   "source": [
    "# Lecture 2 ipython scratch work"
   ]
  },
  {
   "cell_type": "markdown",
   "metadata": {},
   "source": [
    "Print statement : print an integer."
   ]
  },
  {
   "cell_type": "code",
   "execution_count": 2,
   "metadata": {},
   "outputs": [
    {
     "name": "stdout",
     "output_type": "stream",
     "text": [
      "4\n"
     ]
    }
   ],
   "source": [
    "print(4)"
   ]
  },
  {
   "cell_type": "markdown",
   "metadata": {},
   "source": [
    "Print statements don't produce values though - they just print out stuff.  What if we assign print to a variable?"
   ]
  },
  {
   "cell_type": "code",
   "execution_count": 3,
   "metadata": {},
   "outputs": [
    {
     "name": "stdout",
     "output_type": "stream",
     "text": [
      "4\n"
     ]
    }
   ],
   "source": [
    "x = print(4)"
   ]
  },
  {
   "cell_type": "markdown",
   "metadata": {},
   "source": [
    "Let's look at the variable."
   ]
  },
  {
   "cell_type": "code",
   "execution_count": 4,
   "metadata": {},
   "outputs": [],
   "source": [
    "x"
   ]
  },
  {
   "cell_type": "markdown",
   "metadata": {},
   "source": [
    "That's odd - when we evaluate it, no value gets printed.  This is because it has the special value \"None\".  We can verify that by testing x using the \"is\" operator."
   ]
  },
  {
   "cell_type": "code",
   "execution_count": 5,
   "metadata": {},
   "outputs": [
    {
     "data": {
      "text/plain": [
       "True"
      ]
     },
     "execution_count": 5,
     "metadata": {},
     "output_type": "execute_result"
    }
   ],
   "source": [
    "x is None"
   ]
  },
  {
   "cell_type": "markdown",
   "metadata": {},
   "source": [
    "Example square root function using Newton's method with an optional argument (which has a default value) indicating the epsilon we want our error to drop to to stop iterating."
   ]
  },
  {
   "cell_type": "code",
   "execution_count": 6,
   "metadata": {
    "collapsed": true
   },
   "outputs": [],
   "source": [
    "def mysqrt(y, eps=0.00001):\n",
    "    x = y\n",
    "    error = x - y/x\n",
    "    while error > eps:\n",
    "        x = (x + y/x) / 2\n",
    "        error = x - y/x\n",
    "    return x"
   ]
  },
  {
   "cell_type": "code",
   "execution_count": 7,
   "metadata": {},
   "outputs": [
    {
     "data": {
      "text/plain": [
       "20.322401433357193"
      ]
     },
     "execution_count": 7,
     "metadata": {},
     "output_type": "execute_result"
    }
   ],
   "source": [
    "mysqrt(413)"
   ]
  },
  {
   "cell_type": "markdown",
   "metadata": {},
   "source": [
    "We can compare this with the built in square root from the math module, which we first import to make its functions available."
   ]
  },
  {
   "cell_type": "code",
   "execution_count": 8,
   "metadata": {
    "collapsed": true
   },
   "outputs": [],
   "source": [
    "import math"
   ]
  },
  {
   "cell_type": "code",
   "execution_count": 9,
   "metadata": {},
   "outputs": [
    {
     "data": {
      "text/plain": [
       "20.322401432901575"
      ]
     },
     "execution_count": 9,
     "metadata": {},
     "output_type": "execute_result"
    }
   ],
   "source": [
    "math.sqrt(413)"
   ]
  },
  {
   "cell_type": "markdown",
   "metadata": {},
   "source": [
    "Close, but our method isn't all that great.  For future reference, use the built in numerical functions - you really shouldn't roll your own."
   ]
  },
  {
   "cell_type": "markdown",
   "metadata": {},
   "source": [
    "## Gauss-Legendre pi approximation"
   ]
  },
  {
   "cell_type": "markdown",
   "metadata": {},
   "source": [
    "See https://en.wikipedia.org/wiki/Gauss–Legendre_algorithm for information on the algorithm we implement below."
   ]
  },
  {
   "cell_type": "code",
   "execution_count": 11,
   "metadata": {
    "collapsed": true
   },
   "outputs": [],
   "source": [
    "def mypi(eps=1e-9, maxiters=10):\n",
    "    a = 1\n",
    "    b = 1 / math.sqrt(2)\n",
    "    p = 1\n",
    "    t = 1/4\n",
    " \n",
    "    piapprox = (a + b) ** 2 / (4 * t)\n",
    "        \n",
    "    cur_iter = 0\n",
    "        \n",
    "    while abs(a-b) > eps and cur_iter < maxiters:\n",
    "        anew = (a+b)/2\n",
    "        b = math.sqrt(a*b)\n",
    "        t = t - p*(a-anew)**2\n",
    "        p = 2*p\n",
    "        \n",
    "        a = anew\n",
    "        \n",
    "        print('a='+str(a)+' b='+str(b)+' t='+str(t)+' p='+str(math.log(p, 2)))\n",
    "        \n",
    "        piapprox = (a + b) ** 2 / (4 * t)\n",
    "\n",
    "        cur_iter = cur_iter + 1\n",
    "        \n",
    "#        print(piapprox)\n",
    "\n",
    "    return piapprox"
   ]
  },
  {
   "cell_type": "code",
   "execution_count": 12,
   "metadata": {},
   "outputs": [
    {
     "name": "stdout",
     "output_type": "stream",
     "text": [
      "a=0.8535533905932737 b=0.8408964152537145 t=0.22855339059327376 p=1.0\n",
      "a=0.8472249029234942 b=0.8472012667468914 t=0.22847329108090064 p=2.0\n",
      "a=0.8472130848351929 b=0.8472130847527654 t=0.2284732905222318 p=3.0\n",
      "a=0.8472130847939792 b=0.847213084793979 t=0.2284732905222318 p=4.0\n"
     ]
    },
    {
     "data": {
      "text/plain": [
       "3.141592653589794"
      ]
     },
     "execution_count": 12,
     "metadata": {},
     "output_type": "execute_result"
    }
   ],
   "source": [
    "mypi(eps=1e-15, maxiters=4000000)"
   ]
  },
  {
   "cell_type": "markdown",
   "metadata": {},
   "source": [
    "## Monte carlo pi approximation"
   ]
  },
  {
   "cell_type": "markdown",
   "metadata": {},
   "source": [
    "Import the random module to get a basic random number generator."
   ]
  },
  {
   "cell_type": "code",
   "execution_count": 14,
   "metadata": {
    "collapsed": true
   },
   "outputs": [],
   "source": [
    "import random"
   ]
  },
  {
   "cell_type": "code",
   "execution_count": 15,
   "metadata": {},
   "outputs": [
    {
     "data": {
      "text/plain": [
       "1.0274294712632324"
      ]
     },
     "execution_count": 15,
     "metadata": {},
     "output_type": "execute_result"
    }
   ],
   "source": [
    "random.random()*2"
   ]
  },
  {
   "cell_type": "markdown",
   "metadata": {},
   "source": [
    "We can ask for some basic documentation about functions with the ? command in the notebook."
   ]
  },
  {
   "cell_type": "code",
   "execution_count": 16,
   "metadata": {
    "collapsed": true
   },
   "outputs": [],
   "source": [
    "?random.random"
   ]
  },
  {
   "cell_type": "markdown",
   "metadata": {},
   "source": [
    "Function to approximate pi by simulating throwing darts at a dartboard and counting how many darts fall inside and outside the circle (assuming all darts fall within the smallest square that bounds the circle)."
   ]
  },
  {
   "cell_type": "code",
   "execution_count": 81,
   "metadata": {
    "collapsed": true
   },
   "outputs": [],
   "source": [
    "def monte_pi(maxiter=10000):\n",
    "    total = 0\n",
    "    total_circ = 0\n",
    "    iter = 0\n",
    "    while iter < maxiter:\n",
    "        x = random.random() * 2 - 1.0\n",
    "        y = random.random() * 2 - 1.0\n",
    "        total = total + 1\n",
    "        \n",
    "        if math.sqrt(x*x + y*y) <= 1.0:\n",
    "            total_circ = total_circ + 1\n",
    "            \n",
    "        mypi = 4 * total_circ / total\n",
    "                \n",
    "        iter = iter + 1\n",
    "    return mypi"
   ]
  },
  {
   "cell_type": "code",
   "execution_count": 80,
   "metadata": {},
   "outputs": [
    {
     "data": {
      "text/plain": [
       "3.1425432"
      ]
     },
     "execution_count": 80,
     "metadata": {},
     "output_type": "execute_result"
    }
   ],
   "source": [
    "monte_pi(maxiter=5000000)"
   ]
  }
 ],
 "metadata": {
  "kernelspec": {
   "display_name": "Python 3",
   "language": "python",
   "name": "python3"
  },
  "language_info": {
   "codemirror_mode": {
    "name": "ipython",
    "version": 3
   },
   "file_extension": ".py",
   "mimetype": "text/x-python",
   "name": "python",
   "nbconvert_exporter": "python",
   "pygments_lexer": "ipython3",
   "version": "3.6.2"
  }
 },
 "nbformat": 4,
 "nbformat_minor": 2
}
