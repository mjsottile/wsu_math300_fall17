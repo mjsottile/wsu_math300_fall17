{
 "cells": [
  {
   "cell_type": "markdown",
   "metadata": {},
   "source": [
    "## Inheritance"
   ]
  },
  {
   "cell_type": "markdown",
   "metadata": {},
   "source": [
    "Objects can be designed using a hierarchy in which common properties and behaviors for objects can be encapsulated in some parent class, and specializations of those behaviors can be provided by children of that class that are derived from the parent.\n",
    "\n",
    "For example, consider a car object.  Regardless of the type of car, we can reasonably expect that all cars have odometers, all cars can drive n miles, and all cars can have their energy source filled up.\n",
    "\n",
    "What differs between cars is what kind of energy source they require, and what it means to fill them up.  We can start by creating the base class for generic cars:"
   ]
  },
  {
   "cell_type": "code",
   "execution_count": 1,
   "metadata": {
    "collapsed": true
   },
   "outputs": [],
   "source": [
    "class car:\n",
    "    def __init__(self):\n",
    "        self.odometer = 0\n",
    "    \n",
    "    def drive(self, n):\n",
    "        self.odometer += n\n",
    "        \n",
    "    def fillUp(self):\n",
    "        pass"
   ]
  },
  {
   "cell_type": "markdown",
   "metadata": {},
   "source": [
    "Now, we can specialize this to create a class for gas-powered cars.  In this case, we need to add some attributes specific to this kind of car, add a method to add gas, and implement the fillUp method for gas powered cars.\n",
    "\n",
    "*Note*: The super() syntax was incorrectly expressed in class.  When deriving from a parent class, if we want to make sure the parent class initialize function is called, we  need to use the super() function to call up to it.  super takes the derived class name as the first parameter, the object reference being initialized (self), and then calls the init method on the result of super()."
   ]
  },
  {
   "cell_type": "code",
   "execution_count": 2,
   "metadata": {
    "collapsed": true
   },
   "outputs": [],
   "source": [
    "class gasCar(car):\n",
    "    def __init__(self):\n",
    "        super(gasCar, self).__init__()\n",
    "        self.tankVolume = 10\n",
    "        self.tankAmount = 10\n",
    "        \n",
    "    def addGas(self,n):\n",
    "        self.tankAmount += n\n",
    "        \n",
    "    def fillUp(self):\n",
    "        print(\"gasing!\")\n",
    "        self.addGas(self.tankVolume - self.tankAmount)"
   ]
  },
  {
   "cell_type": "markdown",
   "metadata": {},
   "source": [
    "For electric cars, we have a similar specialization - in this case, the car has a battery that holds a charge and degrades over time as it goes through charge/discharge cycles.  This is taken into account by implementing a fillUp method that reflects the behavior specific to this kind of car."
   ]
  },
  {
   "cell_type": "code",
   "execution_count": 3,
   "metadata": {
    "collapsed": true
   },
   "outputs": [],
   "source": [
    "class electricCar(car):\n",
    "    def __init__(self):\n",
    "        super(electricCar, self).__init__()\n",
    "        self.capacity = 1\n",
    "        self.charge = 1\n",
    "        self.cycles = 1\n",
    "        \n",
    "    def addCharge(self,n):\n",
    "        self.charge += n\n",
    "        self.cycles += 1\n",
    "        \n",
    "    def fillUp(self):\n",
    "        print(\"charging!\")\n",
    "        self.addCharge((self.capacity - self.charge) * (self.cycles / 10000.0))"
   ]
  },
  {
   "cell_type": "markdown",
   "metadata": {},
   "source": [
    "Now we can work with the cars to see their different behavior."
   ]
  },
  {
   "cell_type": "code",
   "execution_count": 4,
   "metadata": {
    "collapsed": true
   },
   "outputs": [],
   "source": [
    "mycar = electricCar()"
   ]
  },
  {
   "cell_type": "code",
   "execution_count": 9,
   "metadata": {
    "collapsed": true
   },
   "outputs": [],
   "source": [
    "othercar = gasCar()"
   ]
  },
  {
   "cell_type": "code",
   "execution_count": 12,
   "metadata": {},
   "outputs": [
    {
     "name": "stdout",
     "output_type": "stream",
     "text": [
      "20\n",
      "30\n"
     ]
    }
   ],
   "source": [
    "print(mycar.odometer)\n",
    "mycar.drive(10)\n",
    "print(mycar.odometer)"
   ]
  },
  {
   "cell_type": "code",
   "execution_count": 13,
   "metadata": {},
   "outputs": [
    {
     "name": "stdout",
     "output_type": "stream",
     "text": [
      "20\n",
      "40\n"
     ]
    }
   ],
   "source": [
    "print(othercar.odometer)\n",
    "othercar.drive(20)\n",
    "print(othercar.odometer)"
   ]
  },
  {
   "cell_type": "code",
   "execution_count": 14,
   "metadata": {},
   "outputs": [
    {
     "name": "stdout",
     "output_type": "stream",
     "text": [
      "charging!\n"
     ]
    }
   ],
   "source": [
    "mycar.fillUp()"
   ]
  },
  {
   "cell_type": "code",
   "execution_count": 15,
   "metadata": {},
   "outputs": [
    {
     "name": "stdout",
     "output_type": "stream",
     "text": [
      "gasing!\n"
     ]
    }
   ],
   "source": [
    "othercar.fillUp()"
   ]
  },
  {
   "cell_type": "code",
   "execution_count": null,
   "metadata": {
    "collapsed": true
   },
   "outputs": [],
   "source": []
  }
 ],
 "metadata": {
  "kernelspec": {
   "display_name": "Python 3",
   "language": "python",
   "name": "python3"
  },
  "language_info": {
   "codemirror_mode": {
    "name": "ipython",
    "version": 3
   },
   "file_extension": ".py",
   "mimetype": "text/x-python",
   "name": "python",
   "nbconvert_exporter": "python",
   "pygments_lexer": "ipython3",
   "version": "3.6.2"
  }
 },
 "nbformat": 4,
 "nbformat_minor": 2
}
