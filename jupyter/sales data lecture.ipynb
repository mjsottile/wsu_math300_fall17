{
 "cells": [
  {
   "cell_type": "markdown",
   "metadata": {},
   "source": [
    "# Lecture notes: 10/17/2017"
   ]
  },
  {
   "cell_type": "markdown",
   "metadata": {},
   "source": [
    "Want to read in comma separated data from files called \"retail/products.csv\" and \"retail/baskets.csv\".  Before we are able to write a function to do this, do some exploratory coding to work through the details.  First, we'll create an empty dictionary for the inventory, open the products file, and read the contents into a list of lines."
   ]
  },
  {
   "cell_type": "code",
   "execution_count": 1,
   "metadata": {
    "collapsed": true
   },
   "outputs": [],
   "source": [
    "inventory = {}\n",
    "\n",
    "f = open('retail/products.csv')\n",
    "\n",
    "lines = f.readlines()"
   ]
  },
  {
   "cell_type": "markdown",
   "metadata": {},
   "source": [
    "We can look at what was read in and see a few features we want to get rid of.  Specifically, the header line, and for each line, the single character that corresponds to the UNIX line terminator character.  Look at the lines list:"
   ]
  },
  {
   "cell_type": "code",
   "execution_count": 2,
   "metadata": {},
   "outputs": [
    {
     "data": {
      "text/plain": [
       "['\\ufeffproduct ID,description,unit price\\n',\n",
       " '1234,bananas,0.33\\n',\n",
       " '33,apples,0.49\\n',\n",
       " '39,chicken,7.72\\n',\n",
       " '452,soup,1.5\\n',\n",
       " '888,potato chips,2.99\\n',\n",
       " '111,beer,6.99\\n',\n",
       " '8,newspaper,1\\n',\n",
       " '6,soap,2.99\\n',\n",
       " '12,toothpaste,4.99\\n',\n",
       " '999,coffee,13.99\\n']"
      ]
     },
     "execution_count": 2,
     "metadata": {},
     "output_type": "execute_result"
    }
   ],
   "source": [
    "lines"
   ]
  },
  {
   "cell_type": "markdown",
   "metadata": {},
   "source": [
    "We can use slice notation to get the list of lines without the first line:"
   ]
  },
  {
   "cell_type": "code",
   "execution_count": 3,
   "metadata": {},
   "outputs": [
    {
     "data": {
      "text/plain": [
       "['1234,bananas,0.33\\n',\n",
       " '33,apples,0.49\\n',\n",
       " '39,chicken,7.72\\n',\n",
       " '452,soup,1.5\\n',\n",
       " '888,potato chips,2.99\\n',\n",
       " '111,beer,6.99\\n',\n",
       " '8,newspaper,1\\n',\n",
       " '6,soap,2.99\\n',\n",
       " '12,toothpaste,4.99\\n',\n",
       " '999,coffee,13.99\\n']"
      ]
     },
     "execution_count": 3,
     "metadata": {},
     "output_type": "execute_result"
    }
   ],
   "source": [
    "lines[1:]"
   ]
  },
  {
   "cell_type": "markdown",
   "metadata": {},
   "source": [
    "Looking at the first of these lines, we can reduce the string to everything up to the last character using a slice :-1.  Once we have this, we can use the split() function on strings to take the comma separated values in the line string, and get the list of entries for each column."
   ]
  },
  {
   "cell_type": "code",
   "execution_count": 6,
   "metadata": {},
   "outputs": [
    {
     "data": {
      "text/plain": [
       "['1234', 'bananas', '0.33']"
      ]
     },
     "execution_count": 6,
     "metadata": {},
     "output_type": "execute_result"
    }
   ],
   "source": [
    "lines[1:][0][:-1].split(',')"
   ]
  },
  {
   "cell_type": "markdown",
   "metadata": {},
   "source": [
    "We can iterate over the set of lines and do this line by line - parsing each line into a list called \"parts\", which we interpret as parts[0] being the product ID (the key for our dictionary), parts[1] as the description of the product, and parts[2] as the unit price in dollars."
   ]
  },
  {
   "cell_type": "code",
   "execution_count": 14,
   "metadata": {},
   "outputs": [
    {
     "name": "stdout",
     "output_type": "stream",
     "text": [
      "1234 maps to ('bananas', 0.33)\n",
      "33 maps to ('apples', 0.49)\n",
      "39 maps to ('chicken', 7.72)\n",
      "452 maps to ('soup', 1.5)\n",
      "888 maps to ('potato chips', 2.99)\n",
      "111 maps to ('beer', 6.99)\n",
      "8 maps to ('newspaper', 1.0)\n",
      "6 maps to ('soap', 2.99)\n",
      "12 maps to ('toothpaste', 4.99)\n",
      "999 maps to ('coffee', 13.99)\n"
     ]
    }
   ],
   "source": [
    "for line in lines[1:]:\n",
    "    parts = line[:-1].split(',')\n",
    "    inventory[parts[0]] = (parts[1], float(parts[2]))\n",
    "    print(parts[0]+' maps to '+str(inventory[parts[0]]))"
   ]
  },
  {
   "cell_type": "markdown",
   "metadata": {},
   "source": [
    "Look at the dictionary that was created:"
   ]
  },
  {
   "cell_type": "code",
   "execution_count": 15,
   "metadata": {},
   "outputs": [
    {
     "data": {
      "text/plain": [
       "{'111': ('beer', 6.99),\n",
       " '12': ('toothpaste', 4.99),\n",
       " '1234': ('bananas', 0.33),\n",
       " '33': ('apples', 0.49),\n",
       " '39': ('chicken', 7.72),\n",
       " '452': ('soup', 1.5),\n",
       " '6': ('soap', 2.99),\n",
       " '8': ('newspaper', 1.0),\n",
       " '888': ('potato chips', 2.99),\n",
       " '999': ('coffee', 13.99)}"
      ]
     },
     "execution_count": 15,
     "metadata": {},
     "output_type": "execute_result"
    }
   ],
   "source": [
    "inventory"
   ]
  },
  {
   "cell_type": "markdown",
   "metadata": {},
   "source": [
    "To clarify the split operation, we can split on other characters - such as taking a sentence and reducing it to the list of words."
   ]
  },
  {
   "cell_type": "code",
   "execution_count": 16,
   "metadata": {
    "collapsed": true
   },
   "outputs": [],
   "source": [
    "s = 'i am a sentence'"
   ]
  },
  {
   "cell_type": "code",
   "execution_count": 17,
   "metadata": {},
   "outputs": [
    {
     "data": {
      "text/plain": [
       "['i', 'am', 'a', 'sentence']"
      ]
     },
     "execution_count": 17,
     "metadata": {},
     "output_type": "execute_result"
    }
   ],
   "source": [
    "s.split(' ')"
   ]
  },
  {
   "cell_type": "markdown",
   "metadata": {},
   "source": [
    "We can wrap everything above up into a function that takes a filename, and returns the inventory dictionary fully populated."
   ]
  },
  {
   "cell_type": "code",
   "execution_count": 18,
   "metadata": {
    "collapsed": true
   },
   "outputs": [],
   "source": [
    "def read_inventory(fname):\n",
    "    inventory = {}\n",
    "    f = open(fname)\n",
    "    lines = f.readlines()\n",
    "    for line in lines[1:]:\n",
    "        parts = line[:-1].split(',')\n",
    "        inventory[parts[0]] = (parts[1], float(parts[2]))    \n",
    "    f.close()\n",
    "    return inventory"
   ]
  },
  {
   "cell_type": "code",
   "execution_count": 23,
   "metadata": {},
   "outputs": [],
   "source": [
    "inventory = read_inventory('retail/products.csv')"
   ]
  },
  {
   "cell_type": "markdown",
   "metadata": {},
   "source": [
    "We can do the same thing for baskets.  The basic structure of the function is the same (open file, read lines, iterate over each line parsing them into parts).  The difference is that each basket ID can correspond to multiple product ID / quantity pairs.  So updating the dictionary of sales is a bit more complex.  We need to check if we already have an entry in the sales dictionary for the given basket ID.  If we do, we append the product ID / quantity pair to the existing list of items.  If not, we set the value for the basket ID to a list containing the pair for the first product/quantity pair encountered as we work through the lines in file."
   ]
  },
  {
   "cell_type": "code",
   "execution_count": 20,
   "metadata": {
    "collapsed": true
   },
   "outputs": [],
   "source": [
    "def read_baskets(fname):\n",
    "    sales = {}\n",
    "    f = open(fname)\n",
    "    lines = f.readlines()\n",
    "    for line in lines[1:]:\n",
    "        parts = line[:-1].split(',')\n",
    "        \n",
    "        if parts[0] in sales:\n",
    "            sales[parts[0]].append( (parts[1], int(parts[2]) ) )\n",
    "        else:\n",
    "            sales[parts[0]] = [(parts[1], int(parts[2]))]\n",
    "\n",
    "        \n",
    "    f.close()\n",
    "    return sales"
   ]
  },
  {
   "cell_type": "code",
   "execution_count": 22,
   "metadata": {},
   "outputs": [],
   "source": [
    "sales = read_baskets('retail/baskets.csv')"
   ]
  },
  {
   "cell_type": "markdown",
   "metadata": {},
   "source": [
    "Print the dictionaries to make sure everything worked as expected:"
   ]
  },
  {
   "cell_type": "code",
   "execution_count": 24,
   "metadata": {},
   "outputs": [
    {
     "data": {
      "text/plain": [
       "{'1': [('1234', 2), ('33', 1)],\n",
       " '2': [('1234', 1), ('39', 2), ('452', 1)],\n",
       " '3': [('888', 2), ('111', 1)],\n",
       " '4': [('33', 1)],\n",
       " '5': [('8', 2), ('1234', 1)],\n",
       " '6': [('6', 1), ('33', 2), ('12', 2), ('999', 1)]}"
      ]
     },
     "execution_count": 24,
     "metadata": {},
     "output_type": "execute_result"
    }
   ],
   "source": [
    "sales"
   ]
  },
  {
   "cell_type": "code",
   "execution_count": 25,
   "metadata": {},
   "outputs": [
    {
     "data": {
      "text/plain": [
       "{'111': ('beer', 6.99),\n",
       " '12': ('toothpaste', 4.99),\n",
       " '1234': ('bananas', 0.33),\n",
       " '33': ('apples', 0.49),\n",
       " '39': ('chicken', 7.72),\n",
       " '452': ('soup', 1.5),\n",
       " '6': ('soap', 2.99),\n",
       " '8': ('newspaper', 1.0),\n",
       " '888': ('potato chips', 2.99),\n",
       " '999': ('coffee', 13.99)}"
      ]
     },
     "execution_count": 25,
     "metadata": {},
     "output_type": "execute_result"
    }
   ],
   "source": [
    "inventory"
   ]
  },
  {
   "cell_type": "markdown",
   "metadata": {},
   "source": [
    "Now that we've organized our data as dictionaries, we can write functions that work with the dictionaries to compute quantities from the data.  Here is an example: given a basket ID, compute the total cost of the basket - the sum of each product price times its quantity in the basket."
   ]
  },
  {
   "cell_type": "code",
   "execution_count": 26,
   "metadata": {
    "collapsed": true
   },
   "outputs": [],
   "source": [
    "def total_basket(b_id, inv, sales):\n",
    "    b = sales[b_id]\n",
    "    \n",
    "    total = 0.0\n",
    "    for product_id, quant in b:\n",
    "        total += inv[product_id][1] * quant\n",
    "        \n",
    "    return total\n",
    "    "
   ]
  },
  {
   "cell_type": "markdown",
   "metadata": {},
   "source": [
    "Try it out:"
   ]
  },
  {
   "cell_type": "code",
   "execution_count": 28,
   "metadata": {},
   "outputs": [
    {
     "data": {
      "text/plain": [
       "12.97"
      ]
     },
     "execution_count": 28,
     "metadata": {},
     "output_type": "execute_result"
    }
   ],
   "source": [
    "total_basket('3', inventory, sales)"
   ]
  },
  {
   "cell_type": "markdown",
   "metadata": {},
   "source": [
    "The way we work with the files above is not the only way to do it.  We can use \"with\" to open the file and associate it with a variable within a block of code.  The nice part about this is that we don't have to manually clean up after ourselves and close the file - when the block closes and the file variable f goes out of scope, it gets cleaned up for us."
   ]
  },
  {
   "cell_type": "code",
   "execution_count": null,
   "metadata": {
    "collapsed": true
   },
   "outputs": [],
   "source": [
    "def read_inventory(fname):\n",
    "    inventory = {}\n",
    "    \n",
    "    with open(fname) as f:\n",
    "        lines = f.readlines()\n",
    "        for line in lines[1:]:\n",
    "            parts = line[:-1].split(',')\n",
    "            inventory[parts[0]] = (parts[1], float(parts[2]))    \n",
    "    return inventory"
   ]
  }
 ],
 "metadata": {
  "kernelspec": {
   "display_name": "Python 3",
   "language": "python",
   "name": "python3"
  },
  "language_info": {
   "codemirror_mode": {
    "name": "ipython",
    "version": 3
   },
   "file_extension": ".py",
   "mimetype": "text/x-python",
   "name": "python",
   "nbconvert_exporter": "python",
   "pygments_lexer": "ipython3",
   "version": "3.6.2"
  }
 },
 "nbformat": 4,
 "nbformat_minor": 2
}
